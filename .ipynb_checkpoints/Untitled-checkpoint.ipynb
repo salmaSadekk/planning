{
 "cells": [
  {
   "cell_type": "code",
   "execution_count": 35,
   "metadata": {},
   "outputs": [],
   "source": [
    "# used for manipulating directory paths\n",
    "import os\n",
    "\n",
    "# Scientific and vector computation for python\n",
    "import numpy as np\n",
    "import itertools\n",
    "# Plotting library\n",
    "from matplotlib import pyplot\n",
    "import math \n",
    "# Optimization module in scipy\n",
    "from scipy import optimize\n",
    "\n",
    "# will be used to load MATLAB mat datafile format\n",
    "from scipy.io import loadmat\n",
    "\n",
    "# library written for this exercise providing additional functions for assignment submission, and others\n",
    "import utils\n",
    "from random import randrange\n",
    "# tells matplotlib to embed plots within the notebook\n",
    "%matplotlib inline"
   ]
  },
  {
   "cell_type": "code",
   "execution_count": 42,
   "metadata": {},
   "outputs": [],
   "source": [
    "class Point:\n",
    "    def __init__(self, x,  y):\n",
    "        self.x = x\n",
    "        self.y = y\n",
    "        \n",
    "class pos_Obj:\n",
    "    def __init__(self, RB,  Conn):\n",
    "        self.RB = RB\n",
    "        self.Conn = Conn\n",
    "  \n"
   ]
  },
  {
   "cell_type": "markdown",
   "metadata": {},
   "source": [
    "## Generating the RRH and users"
   ]
  },
  {
   "cell_type": "code",
   "execution_count": 23,
   "metadata": {},
   "outputs": [],
   "source": [
    "\n",
    "# m = total number of users \n",
    "#n= total number of RRH\n",
    "\n",
    "m=5\n",
    "n=15\n",
    "users = [Point(0,0) for i in range(m)]\n",
    "for user in users:\n",
    "    user.x= randrange(10)\n",
    "    user.y=randrange(10)\n",
    "\n",
    "rrhs= [Point(0,0) for i in range(n)]\n",
    "for rrh in rrhs:\n",
    "    rrh.x= randrange(10)\n",
    "    rrh.y=randrange(10)\n",
    "\n"
   ]
  },
  {
   "cell_type": "markdown",
   "metadata": {},
   "source": [
    "## Generating connection Matrix"
   ]
  },
  {
   "cell_type": "code",
   "execution_count": 24,
   "metadata": {},
   "outputs": [
    {
     "data": {
      "text/plain": [
       "'\\nm=2\\nn=2\\n\\nx = [[list(i[x:x+m]) for x in range(0, len(i), m)] for i in product(\"01\", repeat=m*n)]\\nprint(x)\\n\\nm=2\\nn=2\\n\\nx = product([1, 0], repeat=n*m)\\nx = np.reshape(list(x), (-1, n, m)) '"
      ]
     },
     "execution_count": 24,
     "metadata": {},
     "output_type": "execute_result"
    }
   ],
   "source": [
    "from itertools import product\n",
    "\"\"\"\n",
    "m=2\n",
    "n=2\n",
    "\n",
    "x = [[list(i[x:x+m]) for x in range(0, len(i), m)] for i in product(\"01\", repeat=m*n)]\n",
    "print(x)\n",
    "\n",
    "m=2\n",
    "n=2\n",
    "\n",
    "x = product([1, 0], repeat=n*m)\n",
    "x = np.reshape(list(x), (-1, n, m)) \"\"\"\n"
   ]
  },
  {
   "cell_type": "code",
   "execution_count": 25,
   "metadata": {},
   "outputs": [
    {
     "name": "stdout",
     "output_type": "stream",
     "text": [
      "(16, 2, 2)\n"
     ]
    }
   ],
   "source": [
    "print(x.shape)"
   ]
  },
  {
   "cell_type": "code",
   "execution_count": 26,
   "metadata": {},
   "outputs": [
    {
     "name": "stdout",
     "output_type": "stream",
     "text": [
      "[[[1 1]\n",
      "  [1 1]]\n",
      "\n",
      " [[1 1]\n",
      "  [1 0]]\n",
      "\n",
      " [[1 1]\n",
      "  [0 1]]\n",
      "\n",
      " [[1 1]\n",
      "  [0 0]]\n",
      "\n",
      " [[1 0]\n",
      "  [1 1]]\n",
      "\n",
      " [[1 0]\n",
      "  [1 0]]\n",
      "\n",
      " [[1 0]\n",
      "  [0 1]]\n",
      "\n",
      " [[1 0]\n",
      "  [0 0]]\n",
      "\n",
      " [[0 1]\n",
      "  [1 1]]\n",
      "\n",
      " [[0 1]\n",
      "  [1 0]]\n",
      "\n",
      " [[0 1]\n",
      "  [0 1]]\n",
      "\n",
      " [[0 1]\n",
      "  [0 0]]\n",
      "\n",
      " [[0 0]\n",
      "  [1 1]]\n",
      "\n",
      " [[0 0]\n",
      "  [1 0]]\n",
      "\n",
      " [[0 0]\n",
      "  [0 1]]\n",
      "\n",
      " [[0 0]\n",
      "  [0 0]]]\n"
     ]
    }
   ],
   "source": [
    "#out_arr = np.random.randint(low = 0,high=2 , size =(2, 3))\n",
    "print(x)\n"
   ]
  },
  {
   "cell_type": "markdown",
   "metadata": {},
   "source": [
    "## Generating random sol"
   ]
  },
  {
   "cell_type": "code",
   "execution_count": 44,
   "metadata": {},
   "outputs": [],
   "source": [
    "def CalculateEqu(RRH, user):\n",
    "    d= math.sqrt( ((RRH.x-user.x)**2)+((RRH.y-user.y)**2) )\n",
    "    # Signal equ\n",
    "    S= 5 - 10* math.log(25) -20* math.log(2350) -30* math.log(d) - 6* (d/5)\n",
    "    # C equ\n",
    "    C= 180000 * math.log(1+ pow( 10 , S/ (-174+10* math.log(180000))))\n",
    "    R= 2000000 / C\n",
    "    return R"
   ]
  },
  {
   "cell_type": "code",
   "execution_count": 54,
   "metadata": {},
   "outputs": [
    {
     "name": "stdout",
     "output_type": "stream",
     "text": [
      "(15,)\n",
      "(15,)\n",
      "(570,)\n",
      "(15,)\n",
      "(585,)\n",
      "(15,)\n",
      "(600,)\n",
      "(15,)\n",
      "(615,)\n",
      "(615,)\n"
     ]
    },
    {
     "ename": "ValueError",
     "evalue": "cannot reshape array of size 615 into shape (5,15)",
     "output_type": "error",
     "traceback": [
      "\u001b[1;31m---------------------------------------------------------------------------\u001b[0m",
      "\u001b[1;31mValueError\u001b[0m                                Traceback (most recent call last)",
      "\u001b[1;32m<ipython-input-54-a91e8d4d929e>\u001b[0m in \u001b[0;36m<module>\u001b[1;34m\u001b[0m\n\u001b[0;32m     26\u001b[0m \u001b[1;33m\u001b[0m\u001b[0m\n\u001b[0;32m     27\u001b[0m \u001b[0mprint\u001b[0m\u001b[1;33m(\u001b[0m\u001b[0mnp\u001b[0m\u001b[1;33m.\u001b[0m\u001b[0mshape\u001b[0m\u001b[1;33m(\u001b[0m\u001b[0mmatrix\u001b[0m\u001b[1;33m)\u001b[0m\u001b[1;33m)\u001b[0m\u001b[1;33m\u001b[0m\u001b[1;33m\u001b[0m\u001b[0m\n\u001b[1;32m---> 28\u001b[1;33m \u001b[0mprint\u001b[0m\u001b[1;33m(\u001b[0m\u001b[0mnp\u001b[0m\u001b[1;33m.\u001b[0m\u001b[0mreshape\u001b[0m\u001b[1;33m(\u001b[0m\u001b[0mmatrix\u001b[0m\u001b[1;33m,\u001b[0m \u001b[1;33m(\u001b[0m\u001b[0mm\u001b[0m\u001b[1;33m,\u001b[0m\u001b[0mn\u001b[0m\u001b[1;33m)\u001b[0m\u001b[1;33m)\u001b[0m\u001b[1;33m)\u001b[0m\u001b[1;33m\u001b[0m\u001b[1;33m\u001b[0m\u001b[0m\n\u001b[0m\u001b[0;32m     29\u001b[0m \u001b[1;33m\u001b[0m\u001b[0m\n\u001b[0;32m     30\u001b[0m \u001b[1;33m\u001b[0m\u001b[0m\n",
      "\u001b[1;32m~\\Anaconda3\\lib\\site-packages\\numpy\\core\\fromnumeric.py\u001b[0m in \u001b[0;36mreshape\u001b[1;34m(a, newshape, order)\u001b[0m\n\u001b[0;32m    277\u001b[0m            [5, 6]])\n\u001b[0;32m    278\u001b[0m     \"\"\"\n\u001b[1;32m--> 279\u001b[1;33m     \u001b[1;32mreturn\u001b[0m \u001b[0m_wrapfunc\u001b[0m\u001b[1;33m(\u001b[0m\u001b[0ma\u001b[0m\u001b[1;33m,\u001b[0m \u001b[1;34m'reshape'\u001b[0m\u001b[1;33m,\u001b[0m \u001b[0mnewshape\u001b[0m\u001b[1;33m,\u001b[0m \u001b[0morder\u001b[0m\u001b[1;33m=\u001b[0m\u001b[0morder\u001b[0m\u001b[1;33m)\u001b[0m\u001b[1;33m\u001b[0m\u001b[1;33m\u001b[0m\u001b[0m\n\u001b[0m\u001b[0;32m    280\u001b[0m \u001b[1;33m\u001b[0m\u001b[0m\n\u001b[0;32m    281\u001b[0m \u001b[1;33m\u001b[0m\u001b[0m\n",
      "\u001b[1;32m~\\Anaconda3\\lib\\site-packages\\numpy\\core\\fromnumeric.py\u001b[0m in \u001b[0;36m_wrapfunc\u001b[1;34m(obj, method, *args, **kwds)\u001b[0m\n\u001b[0;32m     49\u001b[0m \u001b[1;32mdef\u001b[0m \u001b[0m_wrapfunc\u001b[0m\u001b[1;33m(\u001b[0m\u001b[0mobj\u001b[0m\u001b[1;33m,\u001b[0m \u001b[0mmethod\u001b[0m\u001b[1;33m,\u001b[0m \u001b[1;33m*\u001b[0m\u001b[0margs\u001b[0m\u001b[1;33m,\u001b[0m \u001b[1;33m**\u001b[0m\u001b[0mkwds\u001b[0m\u001b[1;33m)\u001b[0m\u001b[1;33m:\u001b[0m\u001b[1;33m\u001b[0m\u001b[1;33m\u001b[0m\u001b[0m\n\u001b[0;32m     50\u001b[0m     \u001b[1;32mtry\u001b[0m\u001b[1;33m:\u001b[0m\u001b[1;33m\u001b[0m\u001b[1;33m\u001b[0m\u001b[0m\n\u001b[1;32m---> 51\u001b[1;33m         \u001b[1;32mreturn\u001b[0m \u001b[0mgetattr\u001b[0m\u001b[1;33m(\u001b[0m\u001b[0mobj\u001b[0m\u001b[1;33m,\u001b[0m \u001b[0mmethod\u001b[0m\u001b[1;33m)\u001b[0m\u001b[1;33m(\u001b[0m\u001b[1;33m*\u001b[0m\u001b[0margs\u001b[0m\u001b[1;33m,\u001b[0m \u001b[1;33m**\u001b[0m\u001b[0mkwds\u001b[0m\u001b[1;33m)\u001b[0m\u001b[1;33m\u001b[0m\u001b[1;33m\u001b[0m\u001b[0m\n\u001b[0m\u001b[0;32m     52\u001b[0m \u001b[1;33m\u001b[0m\u001b[0m\n\u001b[0;32m     53\u001b[0m     \u001b[1;31m# An AttributeError occurs if the object does not have\u001b[0m\u001b[1;33m\u001b[0m\u001b[1;33m\u001b[0m\u001b[1;33m\u001b[0m\u001b[0m\n",
      "\u001b[1;31mValueError\u001b[0m: cannot reshape array of size 615 into shape (5,15)"
     ]
    }
   ],
   "source": [
    "\n",
    "position= np.random.randint(0,n)\n",
    "arr= [None] * n\n",
    "RRH=rrhs[position]\n",
    "user=users[0]\n",
    "R = CalculateEqu(RRH, user)\n",
    "arr[position] =  pos_Obj(R,1)\n",
    "print(np.shape(arr))\n",
    "\n",
    "\n",
    "for i in range(m-1):\n",
    "    position= np.random.randint(0,n)\n",
    "    arr= [None] * n\n",
    "    #Calculating RB value\n",
    "    print(np.shape(arr))\n",
    "    RRH=rrhs[position]\n",
    "    user=users[i]\n",
    "    \n",
    "    #distance between RRH and user\n",
    "    R = CalculateEqu(RRH, user)\n",
    "    \n",
    "    \n",
    "    arr[position] =  pos_Obj(R,1)\n",
    "    matrix=  np.concatenate((matrix, arr))\n",
    "    print(np.shape(matrix))\n",
    "    \n",
    "print(np.shape(matrix))\n",
    "print(np.reshape(matrix, (m,n)))\n",
    "\n",
    "\n",
    "\n",
    " \n"
   ]
  },
  {
   "cell_type": "code",
   "execution_count": 1,
   "metadata": {},
   "outputs": [
    {
     "data": {
      "text/plain": [
       "\"\\nA = np.identity(3)\\n\\n\\nfor m in itertools.permutations(A):\\n    print('\\n'.join(str(row) for row in m))\\n    print('')\\n\\nA =np.identity(11)\\ncount = 0\\nfor m in itertools.permutations(A):\\n    print('\\n'.join(str(row) for row in m))\\n    print('')\\n    count = count + m[0][0] #for testing purposes\\nprint(count)\\n\""
      ]
     },
     "execution_count": 1,
     "metadata": {},
     "output_type": "execute_result"
    }
   ],
   "source": [
    "\"\"\"\n",
    "A = np.identity(3)\n",
    "\n",
    "\n",
    "for m in itertools.permutations(A):\n",
    "    print('\\n'.join(str(row) for row in m))\n",
    "    print('')\n",
    "\n",
    "A =np.identity(11)\n",
    "count = 0\n",
    "for m in itertools.permutations(A):\n",
    "    print('\\n'.join(str(row) for row in m))\n",
    "    print('')\n",
    "    count = count + m[0][0] #for testing purposes\n",
    "print(count)\n",
    "\"\"\"\n"
   ]
  },
  {
   "cell_type": "code",
   "execution_count": null,
   "metadata": {},
   "outputs": [],
   "source": []
  }
 ],
 "metadata": {
  "kernelspec": {
   "display_name": "Python 3",
   "language": "python",
   "name": "python3"
  },
  "language_info": {
   "codemirror_mode": {
    "name": "ipython",
    "version": 3
   },
   "file_extension": ".py",
   "mimetype": "text/x-python",
   "name": "python",
   "nbconvert_exporter": "python",
   "pygments_lexer": "ipython3",
   "version": "3.7.1"
  }
 },
 "nbformat": 4,
 "nbformat_minor": 2
}

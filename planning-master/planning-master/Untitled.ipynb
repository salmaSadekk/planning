{
 "cells": [
  {
   "cell_type": "code",
   "execution_count": 149,
   "metadata": {},
   "outputs": [],
   "source": [
    "# used for manipulating directory paths\n",
    "import os\n",
    "import math\n",
    "# Scientific and vector computation for python\n",
    "import numpy as np\n",
    "\n",
    "# Plotting library\n",
    "from matplotlib import pyplot\n",
    "\n",
    "# Optimization module in scipy\n",
    "from scipy import optimize\n",
    "\n",
    "# will be used to load MATLAB mat datafile format\n",
    "from scipy.io import loadmat\n",
    "\n",
    "# library written for this exercise providing additional functions for assignment submission, and others\n",
    "import utils\n",
    "from random import randrange\n",
    "import random\n",
    "# tells matplotlib to embed plots within the notebook\n",
    "%matplotlib inline"
   ]
  },
  {
   "cell_type": "code",
   "execution_count": 150,
   "metadata": {},
   "outputs": [],
   "source": [
    "class Point:\n",
    "    def __init__(self, x,  y):\n",
    "        self.x = x\n",
    "        self.y = y\n",
    "  \n"
   ]
  },
  {
   "cell_type": "code",
   "execution_count": 151,
   "metadata": {},
   "outputs": [],
   "source": [
    "def randbin(M,N,P):  \n",
    "    return np.random.choice([0, 1], size=(M,N), p=[P, 1-P])"
   ]
  },
  {
   "cell_type": "code",
   "execution_count": 152,
   "metadata": {},
   "outputs": [],
   "source": [
    "def randconn(N,M,users,rrhs):\n",
    "    x = np.zeros((N,M),dtype = object)\n",
    "    #x = np.full((N, M), Point(0,0))\n",
    "    for k in range(N):\n",
    "        index = random.randint(0,M-1)\n",
    "        \n",
    "        distance = math.sqrt((users[k].x - rrhs[index].x)**2 + (users[k].y - rrhs[k].y)**2)\n",
    "        #print(distance)\n",
    "        S = 5 - (10*math.log(25)) - (20*math.log(2350)) - (30*math.log(distance)) - (6*(distance/5)) + 28\n",
    "        C = 180000*math.log((1+pow(10,(S/(-174+ (10*math.log(180000)))/10))),2)\n",
    "        Rb = 2000000 / C\n",
    "        x[k][index] = Point(1,Rb)\n",
    "    \n",
    "    return x"
   ]
  },
  {
   "cell_type": "markdown",
   "metadata": {},
   "source": [
    "## Generating the RRH and users"
   ]
  },
  {
   "cell_type": "code",
   "execution_count": 153,
   "metadata": {},
   "outputs": [],
   "source": [
    "\n",
    "# m = total number of users \n",
    "#n= total number of RRH\n",
    "\n",
    "m=10\n",
    "n=50\n",
    "users = [Point(0,0) for i in range(m)]\n",
    "for user in users:\n",
    "    user.x= randrange(10)\n",
    "    user.y=randrange(10)\n",
    "\n",
    "rrhs= [Point(0,0) for i in range(n)]\n",
    "for rrh in rrhs:\n",
    "    rrh.x= randrange(10)\n",
    "    rrh.y=randrange(10)\n",
    "\n"
   ]
  },
  {
   "cell_type": "code",
   "execution_count": 154,
   "metadata": {},
   "outputs": [],
   "source": [
    "#def rbs(x,users,rrhs):\n",
    "  \n",
    "    \n",
    "    "
   ]
  },
  {
   "cell_type": "markdown",
   "metadata": {},
   "source": [
    "## Generating connection Matrix"
   ]
  },
  {
   "cell_type": "code",
   "execution_count": 163,
   "metadata": {
    "scrolled": true
   },
   "outputs": [
    {
     "name": "stdout",
     "output_type": "stream",
     "text": [
      "[[0 0 <__main__.Point object at 0x000001E5CCA34FD0>]\n",
      " [<__main__.Point object at 0x000001E5CCA42FD0> 0 0]\n",
      " [0 <__main__.Point object at 0x000001E5CCA17080> 0]\n",
      " [<__main__.Point object at 0x000001E5CCA170B8> 0 0]\n",
      " [0 0 <__main__.Point object at 0x000001E5CCA170F0>]\n",
      " [0 0 <__main__.Point object at 0x000001E5CCA17128>]\n",
      " [0 0 <__main__.Point object at 0x000001E5CCA17160>]\n",
      " [0 0 <__main__.Point object at 0x000001E5CCA17198>]\n",
      " [0 0 <__main__.Point object at 0x000001E5CCA171D0>]\n",
      " [0 <__main__.Point object at 0x000001E5CCA17208> 0]]\n",
      "6.095586439435692\n",
      "5.880191094170193\n",
      "5.987678529520895\n",
      "6.360939235982222\n",
      "6.882620299058278\n",
      "6.494641332165155\n",
      "6.360939235982222\n",
      "6.433134585839086\n",
      "5.900491714880739\n",
      "6.624802614075393\n"
     ]
    }
   ],
   "source": [
    "from itertools import product\n",
    "\"\"\"\n",
    "m=10\n",
    "n=5\n",
    "\n",
    "x = [[list(i[x:x+m]) for x in range(0, len(i), m)] for i in product(\"01\", repeat=m*n)]\n",
    "print(x)\n",
    "\"\"\"\n",
    "\n",
    "\n",
    "\n",
    "n, m = 10, 3\n",
    "\n",
    "#x = randbin(n,m,0.5)\n",
    "x = randconn(n,m,users,rrhs)\n",
    "#print(np.zeros((10,3),dtype = np.int))\n",
    "#x = np.reshape(list(x), (-1, n, m))\n",
    "print(x)\n",
    "#x = rbs(x)\n",
    "#print(x.shape[0])\n",
    "for i in range(x.shape[0]):\n",
    "    #total = np.sum(x[i])\n",
    "    for j in range (x.shape[1]):\n",
    "        \n",
    "        if(type(x[i][j]) is int):\n",
    "            counter = 0\n",
    "        else:\n",
    "            print(x[i][j].y)\n",
    "       \n",
    "        \n",
    "            \n",
    "        "
   ]
  },
  {
   "cell_type": "code",
   "execution_count": null,
   "metadata": {},
   "outputs": [],
   "source": []
  },
  {
   "cell_type": "code",
   "execution_count": null,
   "metadata": {},
   "outputs": [],
   "source": []
  }
 ],
 "metadata": {
  "kernelspec": {
   "display_name": "Python 3",
   "language": "python",
   "name": "python3"
  },
  "language_info": {
   "codemirror_mode": {
    "name": "ipython",
    "version": 3
   },
   "file_extension": ".py",
   "mimetype": "text/x-python",
   "name": "python",
   "nbconvert_exporter": "python",
   "pygments_lexer": "ipython3",
   "version": "3.7.2"
  }
 },
 "nbformat": 4,
 "nbformat_minor": 2
}

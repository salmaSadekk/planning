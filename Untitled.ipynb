{
 "cells": [
  {
   "cell_type": "code",
   "execution_count": 1,
   "metadata": {},
   "outputs": [],
   "source": [
    "# used for manipulating directory paths\n",
    "import os\n",
    "\n",
    "# Scientific and vector computation for python\n",
    "import numpy as np\n",
    "import itertools\n",
    "# Plotting library\n",
    "from matplotlib import pyplot\n",
    "import math \n",
    "# Optimization module in scipy\n",
    "from scipy import optimize\n",
    "\n",
    "# will be used to load MATLAB mat datafile format\n",
    "from scipy.io import loadmat\n",
    "\n",
    "# library written for this exercise providing additional functions for assignment submission, and others\n",
    "import utils\n",
    "from random import randrange\n",
    "# tells matplotlib to embed plots within the notebook\n",
    "%matplotlib inline"
   ]
  },
  {
   "cell_type": "code",
   "execution_count": 2,
   "metadata": {},
   "outputs": [
    {
     "data": {
      "text/plain": [
       "'  \\nclass pos_Obj:\\n    def __init__(self, RB,  Conn):\\n        self.RB = RB\\n        self.Conn = Conn\\n'"
      ]
     },
     "execution_count": 2,
     "metadata": {},
     "output_type": "execute_result"
    }
   ],
   "source": [
    "class Point:\n",
    "    RRHsum=0\n",
    "    def __init__(self, x,  y):\n",
    "        self.x = x\n",
    "        self.y = y\n",
    "    \n",
    "\"\"\"  \n",
    "class pos_Obj:\n",
    "    def __init__(self, RB,  Conn):\n",
    "        self.RB = RB\n",
    "        self.Conn = Conn\n",
    "\"\"\"\n",
    "\n",
    "    \n",
    "\n",
    "  \n"
   ]
  },
  {
   "cell_type": "markdown",
   "metadata": {},
   "source": [
    "## Generating the RRH and users"
   ]
  },
  {
   "cell_type": "code",
   "execution_count": 3,
   "metadata": {},
   "outputs": [],
   "source": [
    "\n",
    "\n",
    "#n= total number of users\n",
    "# m = total number of RRH \n",
    "\n",
    "\n",
    "n=5\n",
    "m=15\n",
    "users = [Point(0,0) for i in range(n)]\n",
    "for user in users:\n",
    "    user.x= randrange(10)\n",
    "    user.y=randrange(10)\n",
    "\n",
    "rrhs= [Point(0,0) for i in range(m)]\n",
    "for rrh in rrhs:\n",
    "    rrh.x= randrange(10)\n",
    "    rrh.y=randrange(10)\n",
    "\n"
   ]
  },
  {
   "cell_type": "markdown",
   "metadata": {},
   "source": [
    "## Generating connection Matrix for local search"
   ]
  },
  {
   "cell_type": "code",
   "execution_count": 4,
   "metadata": {},
   "outputs": [
    {
     "data": {
      "text/plain": [
       "'\\nm=2\\nn=2\\n\\nx = [[list(i[x:x+m]) for x in range(0, len(i), m)] for i in product(\"01\", repeat=m*n)]\\nprint(x)\\n\\nm=2\\nn=2\\n\\nx = product([1, 0], repeat=n*m)\\nx = np.reshape(list(x), (-1, n, m)) '"
      ]
     },
     "execution_count": 4,
     "metadata": {},
     "output_type": "execute_result"
    }
   ],
   "source": [
    "from itertools import product\n",
    "\"\"\"\n",
    "m=2\n",
    "n=2\n",
    "\n",
    "x = [[list(i[x:x+m]) for x in range(0, len(i), m)] for i in product(\"01\", repeat=m*n)]\n",
    "print(x)\n",
    "\n",
    "m=2\n",
    "n=2\n",
    "\n",
    "x = product([1, 0], repeat=n*m)\n",
    "x = np.reshape(list(x), (-1, n, m)) \"\"\"\n"
   ]
  },
  {
   "cell_type": "markdown",
   "metadata": {},
   "source": [
    "## Generating random sol for Genetics Algorithm"
   ]
  },
  {
   "cell_type": "code",
   "execution_count": 5,
   "metadata": {},
   "outputs": [],
   "source": [
    "def randconn(N,M,users,rrhs, Q):\n",
    "    flag=True\n",
    "    \"\"\"initializing the two matrices of connections and RRH sum\"\"\"\n",
    "    \n",
    "    x = np.zeros((N,M))\n",
    "    RRHsum = np.zeros((N,M))\n",
    "    \n",
    "    for k in range(N):\n",
    "        \"\"\"random index to put the 1 in the users row\"\"\"\n",
    "        \n",
    "        index = np.random.randint(0,M-1)\n",
    "        distance = math.sqrt((users[k].x - rrhs[index].x)**2 + (users[k].y - rrhs[index].y)**2)\n",
    "        S = 5 - (10*math.log(25)) - (20*math.log(2350)) - (30*math.log(distance)) - (6*(distance/5)) + 28\n",
    "        C = 180000*math.log((1+pow(10,(S/(-174+ (10*math.log(180000)))/10))),2)\n",
    "        Rb = 2000000 / C\n",
    "       \n",
    "        \"\"\" updating matrix values\"\"\"\n",
    "        \n",
    "        RRHsum[k][index]= RRHsum[k][index]+math.ceil(Rb)\n",
    "        x[k][index] = 1\n",
    "        \n",
    "        \"\"\" Checking whether the column sum value in RRh sum matrix is greater than Q RB.. if true the function returns flag=False\n",
    "            and this matrix won't be used. and the method is called again to generate another valid matrix\n",
    "        \"\"\"\n",
    "        if RRHsum.sum(axis=0)[index] >Q:\n",
    "            \n",
    "            flag=False\n",
    "            break\n",
    "        \n",
    "        \n",
    "        #x = np.zeros((N,M))\n",
    "        \n",
    "       \n",
    "    \n",
    "    return x,RRHsum, flag"
   ]
  },
  {
   "cell_type": "code",
   "execution_count": 41,
   "metadata": {},
   "outputs": [
    {
     "name": "stdout",
     "output_type": "stream",
     "text": [
      "[[0. 0. 0. 0. 0. 0. 0. 0. 0. 0. 0. 0. 0. 7. 0.]\n",
      " [0. 0. 0. 0. 0. 0. 7. 0. 0. 0. 0. 0. 0. 0. 0.]\n",
      " [0. 6. 0. 0. 0. 0. 0. 0. 0. 0. 0. 0. 0. 0. 0.]\n",
      " [0. 0. 0. 0. 0. 0. 0. 0. 0. 0. 0. 0. 7. 0. 0.]\n",
      " [0. 0. 0. 0. 0. 0. 0. 7. 0. 0. 0. 0. 0. 0. 0.]]\n",
      "[[0. 0. 0. 0. 0. 0. 0. 0. 0. 0. 0. 6. 0. 0. 0.]\n",
      " [0. 0. 0. 0. 0. 0. 0. 0. 0. 0. 0. 0. 6. 0. 0.]\n",
      " [0. 0. 0. 0. 0. 0. 0. 0. 7. 0. 0. 0. 0. 0. 0.]\n",
      " [0. 0. 0. 0. 0. 0. 0. 0. 0. 0. 0. 0. 0. 7. 0.]\n",
      " [0. 0. 7. 0. 0. 0. 0. 0. 0. 0. 0. 0. 0. 0. 0.]]\n"
     ]
    }
   ],
   "source": [
    "n, m = 5, 15\n",
    "Q= 7\n",
    "\"\"\"loop to generate the valid matrix for genetics algorithm\"\"\"\n",
    "\n",
    "\"\"\" Matrix_1\"\"\"\n",
    "\n",
    "loop= False\n",
    "while loop==False:\n",
    "    conn,rrhSum1,flag = randconn(n,m,users,rrhs, Q)\n",
    "    loop=flag\n",
    "\n",
    "\"\"\" Matrix_2\"\"\"\n",
    "\n",
    "loop= False\n",
    "while loop==False:\n",
    "    conn2,rrhSum2,flag2 = randconn(n,m,users,rrhs, Q)\n",
    "    loop=flag2\n",
    "    \n",
    "    \n",
    "print(rrhSum1)\n",
    "\n",
    "print(rrhSum2)\n"
   ]
  },
  {
   "cell_type": "markdown",
   "metadata": {},
   "source": [
    "\n",
    "## Genetics Algorithm using generated matrix"
   ]
  },
  {
   "cell_type": "code",
   "execution_count": 7,
   "metadata": {},
   "outputs": [],
   "source": [
    "def crossover(RRHsum,RRHsum2,num):\n",
    "    #some usefull variables\n",
    "    \n",
    "    #cutoff = int(RRHsum.shape[0]/num)\n",
    "    #print(cutoff)\n",
    "    cutoff=num\n",
    "    \n",
    "    \n",
    "    final = np.zeros(RRHsum.shape,dtype= int)\n",
    "    final2 = np.zeros(RRHsum2.shape,dtype = int)\n",
    "    #cutting it for crossover\n",
    "    \n",
    "    firstcut1 = RRHsum[0:cutoff,:]\n",
    "    #print(firstcut1.shape)\n",
    "    firstcut2 = RRHsum[cutoff:,:]\n",
    "    #print(firstcut2.shape)\n",
    "    \n",
    "    secondcut1 = RRHsum2[0:cutoff,:]\n",
    "    #print(secondcut1.shape)\n",
    "    secondcut2 = RRHsum2[cutoff:,:]\n",
    "    #print(secondcut2.shape)\n",
    "    \n",
    "\n",
    "    final[0:cutoff,:] = secondcut1\n",
    "    #print(firstcut2.shape)\n",
    "    #print(final[0:cutoff,:].shape)\n",
    "    final[cutoff:,:] = firstcut2\n",
    "    \n",
    "    final2[0:cutoff,:] = firstcut1\n",
    "    final2[cutoff:,:] = secondcut2\n",
    "    \n",
    "    \n",
    "    return final,final2"
   ]
  },
  {
   "cell_type": "code",
   "execution_count": 20,
   "metadata": {},
   "outputs": [],
   "source": [
    "\"\"\"\n",
    "def check_valid(sol1,sol2,Q):\n",
    "    #This function has something wrong.. Still needs modifications.\n",
    "    sum1 =max(np.sum(sol1,axis=0))\n",
    "    sum2 =max(np.sum(sol2 ,axis=0))\n",
    "    print(\"sum1\" ,sum1)\n",
    "    print(\"sum2\",sum2)\n",
    "    \n",
    "    if(sum1<Q and sum2<Q):\n",
    "        #new_matrices  =new_matrices.insert(0,sol1)\n",
    "        #new_matrices  =new_matrices.insert(0,sol1)\n",
    "        #print(\"new_matrices\", new_matrices)\n",
    "        return [sol1, sol2]\n",
    "    if(sum1<Q):\n",
    "        return [sol1, []]\n",
    "    if(sum2<Q):\n",
    "        return [sol2,[]]\n",
    "\"\"\"\n",
    "  \n",
    "    "
   ]
  },
  {
   "cell_type": "markdown",
   "metadata": {},
   "source": [
    "### note : \n",
    "- when you implement genetics algorithm you need to check after cross over on each matrix's RRHs to know whether it is less than Q or not . If not, then this is an invalid solution\n",
    "- if you make sure it is valid. calculate the total number of resource blocks used in this matrix\n",
    "- in the end you need to compare all the valid solutions Rb values to know which is the best matrix. just compare it with the least too far. The least sum is represented in (current_Matrix , current_sum)\n"
   ]
  },
  {
   "cell_type": "code",
   "execution_count": 51,
   "metadata": {},
   "outputs": [
    {
     "name": "stdout",
     "output_type": "stream",
     "text": [
      "current sum 33.0\n",
      "current_Matrix [[0. 0. 0. 0. 0. 0. 0. 0. 0. 0. 0. 6. 0. 0. 0.]\n",
      " [0. 0. 0. 0. 0. 0. 0. 0. 0. 0. 0. 0. 6. 0. 0.]\n",
      " [0. 0. 0. 0. 0. 0. 0. 0. 7. 0. 0. 0. 0. 0. 0.]\n",
      " [0. 0. 0. 0. 0. 0. 0. 0. 0. 0. 0. 0. 0. 7. 0.]\n",
      " [0. 0. 7. 0. 0. 0. 0. 0. 0. 0. 0. 0. 0. 0. 0.]]\n",
      "The matrices [array([[0, 0, 0, 0, 0, 0, 0, 0, 0, 0, 0, 6, 0, 0, 0],\n",
      "       [0, 0, 0, 0, 0, 0, 7, 0, 0, 0, 0, 0, 0, 0, 0],\n",
      "       [0, 6, 0, 0, 0, 0, 0, 0, 0, 0, 0, 0, 0, 0, 0],\n",
      "       [0, 0, 0, 0, 0, 0, 0, 0, 0, 0, 0, 0, 7, 0, 0],\n",
      "       [0, 0, 0, 0, 0, 0, 0, 7, 0, 0, 0, 0, 0, 0, 0]]), array([[0, 0, 0, 0, 0, 0, 0, 0, 0, 0, 0, 0, 0, 7, 0],\n",
      "       [0, 0, 0, 0, 0, 0, 0, 0, 0, 0, 0, 0, 6, 0, 0],\n",
      "       [0, 0, 0, 0, 0, 0, 0, 0, 7, 0, 0, 0, 0, 0, 0],\n",
      "       [0, 0, 0, 0, 0, 0, 0, 0, 0, 0, 0, 0, 0, 7, 0],\n",
      "       [0, 0, 7, 0, 0, 0, 0, 0, 0, 0, 0, 0, 0, 0, 0]])]\n",
      "The sum [33, 34]\n",
      "The matrices [array([[0, 0, 0, 0, 0, 0, 0, 0, 0, 0, 0, 6, 0, 0, 0],\n",
      "       [0, 0, 0, 0, 0, 0, 0, 0, 0, 0, 0, 0, 6, 0, 0],\n",
      "       [0, 6, 0, 0, 0, 0, 0, 0, 0, 0, 0, 0, 0, 0, 0],\n",
      "       [0, 0, 0, 0, 0, 0, 0, 0, 0, 0, 0, 0, 7, 0, 0],\n",
      "       [0, 0, 0, 0, 0, 0, 0, 7, 0, 0, 0, 0, 0, 0, 0]]), array([[0, 0, 0, 0, 0, 0, 0, 0, 0, 0, 0, 0, 0, 7, 0],\n",
      "       [0, 0, 0, 0, 0, 0, 7, 0, 0, 0, 0, 0, 0, 0, 0],\n",
      "       [0, 0, 0, 0, 0, 0, 0, 0, 7, 0, 0, 0, 0, 0, 0],\n",
      "       [0, 0, 0, 0, 0, 0, 0, 0, 0, 0, 0, 0, 0, 7, 0],\n",
      "       [0, 0, 7, 0, 0, 0, 0, 0, 0, 0, 0, 0, 0, 0, 0]])]\n",
      "The sum [32, 35]\n",
      "The matrices [array([[0, 0, 0, 0, 0, 0, 0, 0, 0, 0, 0, 6, 0, 0, 0],\n",
      "       [0, 0, 0, 0, 0, 0, 0, 0, 0, 0, 0, 0, 6, 0, 0],\n",
      "       [0, 0, 0, 0, 0, 0, 0, 0, 7, 0, 0, 0, 0, 0, 0],\n",
      "       [0, 0, 0, 0, 0, 0, 0, 0, 0, 0, 0, 0, 7, 0, 0],\n",
      "       [0, 0, 0, 0, 0, 0, 0, 7, 0, 0, 0, 0, 0, 0, 0]]), array([[0, 0, 0, 0, 0, 0, 0, 0, 0, 0, 0, 0, 0, 7, 0],\n",
      "       [0, 0, 0, 0, 0, 0, 7, 0, 0, 0, 0, 0, 0, 0, 0],\n",
      "       [0, 6, 0, 0, 0, 0, 0, 0, 0, 0, 0, 0, 0, 0, 0],\n",
      "       [0, 0, 0, 0, 0, 0, 0, 0, 0, 0, 0, 0, 0, 7, 0],\n",
      "       [0, 0, 7, 0, 0, 0, 0, 0, 0, 0, 0, 0, 0, 0, 0]])]\n",
      "The sum [33, 34]\n",
      "Sum of the used matrix 32\n",
      "The used matrix [[0 0 0 0 0 0 0 0 0 0 0 6 0 0 0]\n",
      " [0 0 0 0 0 0 0 0 0 0 0 0 6 0 0]\n",
      " [0 6 0 0 0 0 0 0 0 0 0 0 0 0 0]\n",
      " [0 0 0 0 0 0 0 0 0 0 0 0 7 0 0]\n",
      " [0 0 0 0 0 0 0 7 0 0 0 0 0 0 0]]\n"
     ]
    }
   ],
   "source": [
    "\"\"\"\n",
    "final,final2 = crossover(rrhSum,rrhSum2,2)\n",
    "print(final)\n",
    "print(final2)\n",
    "\n",
    "\"\"\"\n",
    "Q=20\n",
    "\n",
    "#These matrices are just for testing \n",
    "\"\"\"\n",
    "rrhSum1= np.array([\n",
    "    [1, 2, 3, 4, 5 ],\n",
    "    [6 ,7 ,8 ,9 ,10],\n",
    "    [11 ,12 ,13 ,14 ,15],\n",
    "    [16, 17, 18 ,19 ,20],\n",
    "    [21, 22, 23, 24, 25],\n",
    "    [26, 27, 28, 29, 30]\n",
    "])\n",
    "\n",
    "rrhSum2 =np.array([\n",
    "    \n",
    "    \n",
    "    [31, 32, 33, 34, 35],\n",
    "    [36, 37, 38, 39, 40],\n",
    "    [41 ,42 ,43 ,44 ,45],\n",
    "    [46, 47 ,48 ,49 ,50],\n",
    "    [51,52,53,54,55],\n",
    "    [56,57,58,59,60]\n",
    "])\n",
    "\"\"\"\n",
    "\n",
    "# note rrhSum1 and rrhSum2 matrix contain the Rbs values so all you need is sum up all the used RBs in all culomns\n",
    "#we will start by comparing between RBs in initial sols\n",
    "\n",
    "current_Matrix=rrhSum1\n",
    "current_sum=np.sum(rrhSum1)\n",
    "#compare between initial solutions\n",
    "if(np.sum(rrhSum2)<current_sum):\n",
    "    current_sum =np.sum(rrhSum2)\n",
    "    current_Matrix= rrhSum2\n",
    "print(\"current sum\",current_sum )\n",
    "print(\"current_Matrix\",current_Matrix )\n",
    "    \n",
    "#loop to generate the solutions from the initial solutions through crossover functions with different cutoff values\n",
    "\n",
    "for i in range(1,int(rrhSum1.shape[0]/2)+2):\n",
    "    sol1,sol2 = crossover(rrhSum1,rrhSum2,i)\n",
    "    #check validity: this part checks whether any sum of the columns of sol1,2 matrices is greater than Q or not\n",
    "    sum1 =max(np.sum(sol1,axis=0)) #sums the columns and puts them in an array of sum1. then gets max value\n",
    "    sum2 =max(np.sum(sol2 ,axis=0))\n",
    "    \n",
    "    \n",
    "    new_matrices= [] #contains only the valid matrices from sol1,2\n",
    "    if(sum1<=Q and sum2<=Q):\n",
    "        new_matrices= [sol1, sol2]\n",
    "        \n",
    "        \n",
    "    elif(sum1<=Q):\n",
    "        new_matrices= [sol1]\n",
    "        \n",
    "    elif(sum2<=Q):\n",
    "        new_matrices= [sol2]\n",
    "        \n",
    "    \n",
    "   \n",
    "    print(\"The matrices\",new_matrices)\n",
    "    sums=[] #contains the sums of all RBs in sol1,2\n",
    "    for count in range(len(new_matrices)) :\n",
    "        sums.append(np.sum(new_matrices[count]) )\n",
    "   \n",
    "    \n",
    "    print(\"The sum\",sums)\n",
    "    #loop to compare the current_sum with the sums of the generated matrix\n",
    "    for j in range(len(new_matrices)):\n",
    "        \n",
    "        if(sums[j]<current_sum):\n",
    "            current_sum =sums[j]\n",
    "            current_Matrix=new_matrices[j]\n",
    "            \n",
    "        \n",
    "print(\"Sum of the used matrix\",current_sum)\n",
    "print(\"The used matrix\" ,current_Matrix)\n",
    "    \n",
    "\n"
   ]
  },
  {
   "cell_type": "markdown",
   "metadata": {},
   "source": [
    "## Some test codes"
   ]
  },
  {
   "cell_type": "code",
   "execution_count": null,
   "metadata": {},
   "outputs": [],
   "source": [
    "class Trial:\n",
    "   \n",
    "    def __init__(self, x ,  S=0):\n",
    "        self.x =x\n",
    "        self.S= S\n",
    "    def add(self , sum_A):\n",
    "        self.S = self.S +sum_A\n",
    "        print(self.S )\n",
    "x= Trial(2)\n",
    "x.add(10)\n",
    "x.add(100)\n",
    "\n",
    "y=Trial(3)\n",
    "x.add(5)\n",
    "print(x.S)"
   ]
  },
  {
   "cell_type": "code",
   "execution_count": 21,
   "metadata": {},
   "outputs": [
    {
     "name": "stdout",
     "output_type": "stream",
     "text": [
      "sum1 135\n",
      "sum2 255\n",
      "[[[31, 32, 33, 34, 35], [6, 7, 8, 9, 10], [11, 12, 13, 14, 15], [16, 17, 18, 19, 20], [21, 22, 23, 24, 25], [26, 27, 28, 29, 30]], [[1, 2, 3, 4, 5], [36, 37, 38, 39, 40], [41, 42, 43, 44, 45], [46, 47, 48, 49, 50], [51, 52, 53, 54, 55], [56, 57, 58, 59, 60]]]\n"
     ]
    }
   ],
   "source": [
    "sol1 =[[31, 32, 33, 34, 35],\n",
    "       [ 6,  7,  8,  9, 10],\n",
    "       [11, 12, 13, 14, 15],\n",
    "       [16, 17, 18, 19, 20],\n",
    "       [21, 22, 23, 24, 25],\n",
    "       [26, 27, 28, 29, 30]]\n",
    "sol2 =[[ 1,  2,  3,  4,  5],\n",
    "       [36, 37, 38, 39, 40],\n",
    "       [41, 42, 43, 44, 45],\n",
    "       [46, 47, 48, 49, 50],\n",
    "       [51, 52, 53, 54, 55],\n",
    "       [56, 57, 58, 59, 60]]\n",
    "\n",
    "\"\"\"\n",
    "Cross over test example\n",
    "\"\"\"\n",
    "mat =check_valid(sol1,sol2,1215)\n",
    "print(mat)\n"
   ]
  },
  {
   "cell_type": "code",
   "execution_count": null,
   "metadata": {},
   "outputs": [],
   "source": []
  },
  {
   "cell_type": "code",
   "execution_count": null,
   "metadata": {},
   "outputs": [],
   "source": []
  }
 ],
 "metadata": {
  "kernelspec": {
   "display_name": "Python 3",
   "language": "python",
   "name": "python3"
  },
  "language_info": {
   "codemirror_mode": {
    "name": "ipython",
    "version": 3
   },
   "file_extension": ".py",
   "mimetype": "text/x-python",
   "name": "python",
   "nbconvert_exporter": "python",
   "pygments_lexer": "ipython3",
   "version": "3.7.1"
  }
 },
 "nbformat": 4,
 "nbformat_minor": 2
}

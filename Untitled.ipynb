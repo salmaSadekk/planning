{
 "cells": [
  {
   "cell_type": "code",
   "execution_count": 1,
   "metadata": {},
   "outputs": [],
   "source": [
    "# used for manipulating directory paths\n",
    "import os\n",
    "\n",
    "# Scientific and vector computation for python\n",
    "import numpy as np\n",
    "import itertools\n",
    "# Plotting library\n",
    "from matplotlib import pyplot\n",
    "import math \n",
    "# Optimization module in scipy\n",
    "from scipy import optimize\n",
    "\n",
    "# will be used to load MATLAB mat datafile format\n",
    "from scipy.io import loadmat\n",
    "\n",
    "# library written for this exercise providing additional functions for assignment submission, and others\n",
    "import utils\n",
    "from random import randrange\n",
    "# tells matplotlib to embed plots within the notebook\n",
    "%matplotlib inline"
   ]
  },
  {
   "cell_type": "code",
   "execution_count": 2,
   "metadata": {},
   "outputs": [],
   "source": [
    "class Point:\n",
    "    RRHsum=0\n",
    "    def __init__(self, x,  y):\n",
    "        self.x = x\n",
    "        self.y = y\n",
    "    \n",
    "  \n",
    "    def RRH_sum(self, sum):\n",
    "       # print(\"Sum from obj:\" , RRHsum)\n",
    "       # print(\"Sum passed to method:\" ,sum)\n",
    "        \n",
    "        RRHsum = RRHsum+ sum\n",
    "        \n",
    "        #print(\"Actual new sum:\" , RRHsum)\n",
    "    \n",
    "    \n",
    "        \n",
    "        \n",
    "class pos_Obj:\n",
    "    def __init__(self, RB,  Conn):\n",
    "        self.RB = RB\n",
    "        self.Conn = Conn\n",
    "\n",
    "  \n"
   ]
  },
  {
   "cell_type": "markdown",
   "metadata": {},
   "source": [
    "## Generating the RRH and users"
   ]
  },
  {
   "cell_type": "code",
   "execution_count": 3,
   "metadata": {},
   "outputs": [],
   "source": [
    "\n",
    "\n",
    "#n= total number of users\n",
    "# m = total number of RRH \n",
    "\n",
    "\n",
    "n=5\n",
    "m=15\n",
    "users = [Point(0,0) for i in range(n)]\n",
    "for user in users:\n",
    "    user.x= randrange(10)\n",
    "    user.y=randrange(10)\n",
    "\n",
    "rrhs= [Point(0,0) for i in range(m)]\n",
    "for rrh in rrhs:\n",
    "    rrh.x= randrange(10)\n",
    "    rrh.y=randrange(10)\n",
    "\n"
   ]
  },
  {
   "cell_type": "markdown",
   "metadata": {},
   "source": [
    "## Generating connection Matrix"
   ]
  },
  {
   "cell_type": "code",
   "execution_count": 4,
   "metadata": {},
   "outputs": [
    {
     "data": {
      "text/plain": [
       "'\\nm=2\\nn=2\\n\\nx = [[list(i[x:x+m]) for x in range(0, len(i), m)] for i in product(\"01\", repeat=m*n)]\\nprint(x)\\n\\nm=2\\nn=2\\n\\nx = product([1, 0], repeat=n*m)\\nx = np.reshape(list(x), (-1, n, m)) '"
      ]
     },
     "execution_count": 4,
     "metadata": {},
     "output_type": "execute_result"
    }
   ],
   "source": [
    "from itertools import product\n",
    "\"\"\"\n",
    "m=2\n",
    "n=2\n",
    "\n",
    "x = [[list(i[x:x+m]) for x in range(0, len(i), m)] for i in product(\"01\", repeat=m*n)]\n",
    "print(x)\n",
    "\n",
    "m=2\n",
    "n=2\n",
    "\n",
    "x = product([1, 0], repeat=n*m)\n",
    "x = np.reshape(list(x), (-1, n, m)) \"\"\"\n"
   ]
  },
  {
   "cell_type": "code",
   "execution_count": null,
   "metadata": {},
   "outputs": [],
   "source": []
  },
  {
   "cell_type": "code",
   "execution_count": 5,
   "metadata": {},
   "outputs": [
    {
     "data": {
      "text/plain": [
       "2"
      ]
     },
     "execution_count": 5,
     "metadata": {},
     "output_type": "execute_result"
    }
   ],
   "source": [
    "\n",
    "\n",
    "round(2.2)"
   ]
  },
  {
   "cell_type": "markdown",
   "metadata": {},
   "source": [
    "## Generating random sol"
   ]
  },
  {
   "cell_type": "code",
   "execution_count": 13,
   "metadata": {},
   "outputs": [],
   "source": [
    "def randconn(N,M,users,rrhs, Q):\n",
    "    flag=True\n",
    "    x = np.zeros((N,M),dtype = object)\n",
    "    RRhsum= np.zeros(M)\n",
    "    #x = np.full((N, M), Point(0,0))\n",
    "    for k in range(N):\n",
    "        index = np.random.randint(0,M-1)\n",
    "        \n",
    "        distance = math.sqrt((users[k].x - rrhs[index].x)**2 + (users[k].y - rrhs[index].y)**2)\n",
    "        #print(distance)\n",
    "        S = 5 - (10*math.log(25)) - (20*math.log(2350)) - (30*math.log(distance)) - (6*(distance/5)) + 28\n",
    "        C = 180000*math.log((1+pow(10,(S/(-174+ (10*math.log(180000)))/10))),2)\n",
    "        Rb = 2000000 / C\n",
    "       \n",
    "       \n",
    "        RRhsum[index]= RRhsum[index] +math.ceil(Rb)\n",
    "        print(\"RRH sum at index\", RRhsum[index])\n",
    "        if RRhsum[index] >Q:\n",
    "            \n",
    "            flag=False\n",
    "            break\n",
    "        \n",
    "        \n",
    "        x[k][index] = pos_Obj(math.ceil(Rb),1)\n",
    "    if flag==True:\n",
    "        return x\n",
    "    else:\n",
    "        return None"
   ]
  },
  {
   "cell_type": "code",
   "execution_count": 14,
   "metadata": {},
   "outputs": [
    {
     "name": "stdout",
     "output_type": "stream",
     "text": [
      "RRH sum at index 7.0\n",
      "RRH sum at index 6.0\n",
      "RRH sum at index 6.0\n",
      "RRH sum at index 7.0\n",
      "RRH sum at index 7.0\n",
      "[[0 0 0 0 0 0 0 0 0 <__main__.pos_Obj object at 0x000002DB90A2ED68> 0 0 0\n",
      "  0 0]\n",
      " [0 0 0 0 0 0 0 0 0 0 0 0 0\n",
      "  <__main__.pos_Obj object at 0x000002DB90A2EF28> 0]\n",
      " [0 0 0 0 0 0 0 <__main__.pos_Obj object at 0x000002DB90A2EBA8> 0 0 0 0 0\n",
      "  0 0]\n",
      " [0 0 0 <__main__.pos_Obj object at 0x000002DB90A2ED30> 0 0 0 0 0 0 0 0 0\n",
      "  0 0]\n",
      " [<__main__.pos_Obj object at 0x000002DB90A2E3C8> 0 0 0 0 0 0 0 0 0 0 0 0\n",
      "  0 0]]\n"
     ]
    },
    {
     "ename": "ValueError",
     "evalue": "The truth value of an array with more than one element is ambiguous. Use a.any() or a.all()",
     "output_type": "error",
     "traceback": [
      "\u001b[1;31m---------------------------------------------------------------------------\u001b[0m",
      "\u001b[1;31mValueError\u001b[0m                                Traceback (most recent call last)",
      "\u001b[1;32m<ipython-input-14-ce2784ce603a>\u001b[0m in \u001b[0;36m<module>\u001b[1;34m\u001b[0m\n\u001b[0;32m      9\u001b[0m \u001b[1;31m#x = rbs(x)\u001b[0m\u001b[1;33m\u001b[0m\u001b[1;33m\u001b[0m\u001b[1;33m\u001b[0m\u001b[0m\n\u001b[0;32m     10\u001b[0m \u001b[1;31m#print(x.shape[0])\u001b[0m\u001b[1;33m\u001b[0m\u001b[1;33m\u001b[0m\u001b[1;33m\u001b[0m\u001b[0m\n\u001b[1;32m---> 11\u001b[1;33m \u001b[1;32mif\u001b[0m\u001b[1;33m(\u001b[0m\u001b[0mx\u001b[0m \u001b[1;33m!=\u001b[0m\u001b[1;32mNone\u001b[0m\u001b[1;33m)\u001b[0m\u001b[1;33m:\u001b[0m\u001b[1;33m\u001b[0m\u001b[1;33m\u001b[0m\u001b[0m\n\u001b[0m\u001b[0;32m     12\u001b[0m     \u001b[1;32mfor\u001b[0m \u001b[0mi\u001b[0m \u001b[1;32min\u001b[0m \u001b[0mrange\u001b[0m\u001b[1;33m(\u001b[0m\u001b[0mx\u001b[0m\u001b[1;33m.\u001b[0m\u001b[0mshape\u001b[0m\u001b[1;33m[\u001b[0m\u001b[1;36m0\u001b[0m\u001b[1;33m]\u001b[0m\u001b[1;33m)\u001b[0m\u001b[1;33m:\u001b[0m\u001b[1;33m\u001b[0m\u001b[1;33m\u001b[0m\u001b[0m\n\u001b[0;32m     13\u001b[0m         \u001b[1;31m#total = np.sum(x[i])\u001b[0m\u001b[1;33m\u001b[0m\u001b[1;33m\u001b[0m\u001b[1;33m\u001b[0m\u001b[0m\n",
      "\u001b[1;31mValueError\u001b[0m: The truth value of an array with more than one element is ambiguous. Use a.any() or a.all()"
     ]
    }
   ],
   "source": [
    "n, m = 5, 15\n",
    "Q= 7\n",
    "#x = randbin(n,m,0.5)\n",
    "\n",
    "x = randconn(n,m,users,rrhs, Q)\n",
    "#print(np.zeros((10,3),dtype = np.int))\n",
    "#x = np.reshape(list(x), (-1, n, m))\n",
    "print(x)\n",
    "#x = rbs(x)\n",
    "#print(x.shape[0])\n",
    "if(x !=None ||):\n",
    "    for i in range(x.shape[0]):\n",
    "        #total = np.sum(x[i])\n",
    "        for j in range (x.shape[1]):\n",
    "\n",
    "            if(type(x[i][j]) is int):\n",
    "                counter = 0\n",
    "            else:\n",
    "                print(x[i][j].RB)\n",
    "    print(\"RRH sum in array\")\n",
    "    for x in range(m):\n",
    "        print(rrhs[x].RRHsum)"
   ]
  },
  {
   "cell_type": "code",
   "execution_count": null,
   "metadata": {},
   "outputs": [],
   "source": [
    "\"\"\"\n",
    "A = np.identity(3)\n",
    "\n",
    "\n",
    "for m in itertools.permutations(A):\n",
    "    print('\\n'.join(str(row) for row in m))\n",
    "    print('')\n",
    "\n",
    "A =np.identity(11)\n",
    "count = 0\n",
    "for m in itertools.permutations(A):\n",
    "    print('\\n'.join(str(row) for row in m))\n",
    "    print('')\n",
    "    count = count + m[0][0] #for testing purposes\n",
    "print(count)\n",
    "\"\"\"\n"
   ]
  },
  {
   "cell_type": "code",
   "execution_count": null,
   "metadata": {},
   "outputs": [],
   "source": [
    "class Trial:\n",
    "   \n",
    "    def __init__(self, x ,  S=0):\n",
    "        self.x =x\n",
    "        self.S= S\n",
    "    def add(self , sum_A):\n",
    "        self.S = self.S +sum_A\n",
    "        print(self.S )"
   ]
  },
  {
   "cell_type": "code",
   "execution_count": null,
   "metadata": {},
   "outputs": [],
   "source": [
    "x= Trial(2)\n",
    "x.add(10)\n",
    "x.add(100)\n",
    "\n",
    "y=Trial(3)\n",
    "x.add(5)\n",
    "print(x.S)"
   ]
  },
  {
   "cell_type": "code",
   "execution_count": null,
   "metadata": {},
   "outputs": [],
   "source": []
  },
  {
   "cell_type": "code",
   "execution_count": null,
   "metadata": {},
   "outputs": [],
   "source": []
  }
 ],
 "metadata": {
  "kernelspec": {
   "display_name": "Python 3",
   "language": "python",
   "name": "python3"
  },
  "language_info": {
   "codemirror_mode": {
    "name": "ipython",
    "version": 3
   },
   "file_extension": ".py",
   "mimetype": "text/x-python",
   "name": "python",
   "nbconvert_exporter": "python",
   "pygments_lexer": "ipython3",
   "version": "3.7.1"
  }
 },
 "nbformat": 4,
 "nbformat_minor": 2
}

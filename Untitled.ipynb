{
 "cells": [
  {
   "cell_type": "code",
   "execution_count": 21,
   "metadata": {},
   "outputs": [],
   "source": [
    "# used for manipulating directory paths\n",
    "import os\n",
    "\n",
    "# Scientific and vector computation for python\n",
    "import numpy as np\n",
    "import itertools\n",
    "# Plotting library\n",
    "from matplotlib import pyplot\n",
    "\n",
    "# Optimization module in scipy\n",
    "from scipy import optimize\n",
    "\n",
    "# will be used to load MATLAB mat datafile format\n",
    "from scipy.io import loadmat\n",
    "\n",
    "# library written for this exercise providing additional functions for assignment submission, and others\n",
    "import utils\n",
    "from random import randrange\n",
    "# tells matplotlib to embed plots within the notebook\n",
    "%matplotlib inline"
   ]
  },
  {
   "cell_type": "code",
   "execution_count": 22,
   "metadata": {},
   "outputs": [],
   "source": [
    "class Point:\n",
    "    def __init__(self, x,  y):\n",
    "        self.x = x\n",
    "        self.y = y\n",
    "        \n",
    "class pos:\n",
    "    def __init__(self, RB,  Conn):\n",
    "        self.RB = RB\n",
    "        self.Conn = Conn\n",
    "  \n"
   ]
  },
  {
   "cell_type": "markdown",
   "metadata": {},
   "source": [
    "## Generating the RRH and users"
   ]
  },
  {
   "cell_type": "code",
   "execution_count": 23,
   "metadata": {},
   "outputs": [],
   "source": [
    "\n",
    "# m = total number of users \n",
    "#n= total number of RRH\n",
    "\n",
    "m=5\n",
    "n=15\n",
    "users = [Point(0,0) for i in range(m)]\n",
    "for user in users:\n",
    "    user.x= randrange(10)\n",
    "    user.y=randrange(10)\n",
    "\n",
    "rrhs= [Point(0,0) for i in range(n)]\n",
    "for rrh in rrhs:\n",
    "    rrh.x= randrange(10)\n",
    "    rrh.y=randrange(10)\n",
    "\n"
   ]
  },
  {
   "cell_type": "markdown",
   "metadata": {},
   "source": [
    "## Generating connection Matrix"
   ]
  },
  {
   "cell_type": "code",
   "execution_count": 24,
   "metadata": {},
   "outputs": [
    {
     "data": {
      "text/plain": [
       "'\\nm=2\\nn=2\\n\\nx = [[list(i[x:x+m]) for x in range(0, len(i), m)] for i in product(\"01\", repeat=m*n)]\\nprint(x)\\n\\nm=2\\nn=2\\n\\nx = product([1, 0], repeat=n*m)\\nx = np.reshape(list(x), (-1, n, m)) '"
      ]
     },
     "execution_count": 24,
     "metadata": {},
     "output_type": "execute_result"
    }
   ],
   "source": [
    "from itertools import product\n",
    "\"\"\"\n",
    "m=2\n",
    "n=2\n",
    "\n",
    "x = [[list(i[x:x+m]) for x in range(0, len(i), m)] for i in product(\"01\", repeat=m*n)]\n",
    "print(x)\n",
    "\n",
    "m=2\n",
    "n=2\n",
    "\n",
    "x = product([1, 0], repeat=n*m)\n",
    "x = np.reshape(list(x), (-1, n, m)) \"\"\"\n"
   ]
  },
  {
   "cell_type": "code",
   "execution_count": 25,
   "metadata": {},
   "outputs": [
    {
     "name": "stdout",
     "output_type": "stream",
     "text": [
      "(16, 2, 2)\n"
     ]
    }
   ],
   "source": [
    "print(x.shape)"
   ]
  },
  {
   "cell_type": "code",
   "execution_count": 26,
   "metadata": {},
   "outputs": [
    {
     "name": "stdout",
     "output_type": "stream",
     "text": [
      "[[[1 1]\n",
      "  [1 1]]\n",
      "\n",
      " [[1 1]\n",
      "  [1 0]]\n",
      "\n",
      " [[1 1]\n",
      "  [0 1]]\n",
      "\n",
      " [[1 1]\n",
      "  [0 0]]\n",
      "\n",
      " [[1 0]\n",
      "  [1 1]]\n",
      "\n",
      " [[1 0]\n",
      "  [1 0]]\n",
      "\n",
      " [[1 0]\n",
      "  [0 1]]\n",
      "\n",
      " [[1 0]\n",
      "  [0 0]]\n",
      "\n",
      " [[0 1]\n",
      "  [1 1]]\n",
      "\n",
      " [[0 1]\n",
      "  [1 0]]\n",
      "\n",
      " [[0 1]\n",
      "  [0 1]]\n",
      "\n",
      " [[0 1]\n",
      "  [0 0]]\n",
      "\n",
      " [[0 0]\n",
      "  [1 1]]\n",
      "\n",
      " [[0 0]\n",
      "  [1 0]]\n",
      "\n",
      " [[0 0]\n",
      "  [0 1]]\n",
      "\n",
      " [[0 0]\n",
      "  [0 0]]]\n"
     ]
    }
   ],
   "source": [
    "#out_arr = np.random.randint(low = 0,high=2 , size =(2, 3))\n",
    "print(x)\n"
   ]
  },
  {
   "cell_type": "markdown",
   "metadata": {},
   "source": [
    "## Generating random sol"
   ]
  },
  {
   "cell_type": "code",
   "execution_count": 33,
   "metadata": {},
   "outputs": [
    {
     "name": "stdout",
     "output_type": "stream",
     "text": [
      "[[0. 0. 0. 0. 0. 0. 0. 0. 0. 0. 0. 0. 1. 0. 0.]\n",
      " [0. 0. 0. 0. 0. 0. 0. 0. 0. 0. 0. 0. 1. 0. 0.]\n",
      " [0. 0. 0. 0. 0. 0. 0. 0. 0. 0. 0. 1. 0. 0. 0.]\n",
      " [0. 0. 1. 0. 0. 0. 0. 0. 0. 0. 0. 0. 0. 0. 0.]\n",
      " [0. 0. 0. 0. 0. 0. 0. 0. 0. 0. 0. 1. 0. 0. 0.]]\n"
     ]
    }
   ],
   "source": [
    "\n",
    "pos= np.random.randint(0,n)\n",
    "arr= np.zeros(n)\n",
    "arr[pos] =1 \n",
    "matrix= arr\n",
    "\n",
    "\n",
    "for i in range(m-1):\n",
    "    pos= np.random.randint(0,n)\n",
    "    arr= np.zeros(n)\n",
    "    arr[pos] =1 \n",
    "    matrix=  np.concatenate((matrix, arr))\n",
    "    \n",
    "print(np.reshape(matrix, (m,n)))\n",
    "\n",
    "\n",
    "\n",
    " \n"
   ]
  },
  {
   "cell_type": "code",
   "execution_count": 1,
   "metadata": {},
   "outputs": [
    {
     "data": {
      "text/plain": [
       "\"\\nA = np.identity(3)\\n\\n\\nfor m in itertools.permutations(A):\\n    print('\\n'.join(str(row) for row in m))\\n    print('')\\n\\nA =np.identity(11)\\ncount = 0\\nfor m in itertools.permutations(A):\\n    print('\\n'.join(str(row) for row in m))\\n    print('')\\n    count = count + m[0][0] #for testing purposes\\nprint(count)\\n\""
      ]
     },
     "execution_count": 1,
     "metadata": {},
     "output_type": "execute_result"
    }
   ],
   "source": [
    "\"\"\"\n",
    "A = np.identity(3)\n",
    "\n",
    "\n",
    "for m in itertools.permutations(A):\n",
    "    print('\\n'.join(str(row) for row in m))\n",
    "    print('')\n",
    "\n",
    "A =np.identity(11)\n",
    "count = 0\n",
    "for m in itertools.permutations(A):\n",
    "    print('\\n'.join(str(row) for row in m))\n",
    "    print('')\n",
    "    count = count + m[0][0] #for testing purposes\n",
    "print(count)\n",
    "\"\"\"\n"
   ]
  },
  {
   "cell_type": "code",
   "execution_count": null,
   "metadata": {},
   "outputs": [],
   "source": []
  }
 ],
 "metadata": {
  "kernelspec": {
   "display_name": "Python 3",
   "language": "python",
   "name": "python3"
  },
  "language_info": {
   "codemirror_mode": {
    "name": "ipython",
    "version": 3
   },
   "file_extension": ".py",
   "mimetype": "text/x-python",
   "name": "python",
   "nbconvert_exporter": "python",
   "pygments_lexer": "ipython3",
   "version": "3.7.1"
  }
 },
 "nbformat": 4,
 "nbformat_minor": 2
}

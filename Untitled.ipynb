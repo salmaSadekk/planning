{
 "cells": [
  {
   "cell_type": "code",
   "execution_count": 1,
   "metadata": {},
   "outputs": [],
   "source": [
    "# used for manipulating directory paths\n",
    "import os\n",
    "\n",
    "# Scientific and vector computation for python\n",
    "import numpy as np\n",
    "import itertools\n",
    "# Plotting library\n",
    "from matplotlib import pyplot\n",
    "import math \n",
    "# Optimization module in scipy\n",
    "from scipy import optimize\n",
    "\n",
    "# will be used to load MATLAB mat datafile format\n",
    "from scipy.io import loadmat\n",
    "\n",
    "# library written for this exercise providing additional functions for assignment submission, and others\n",
    "import utils\n",
    "from random import randrange\n",
    "# tells matplotlib to embed plots within the notebook\n",
    "%matplotlib inline"
   ]
  },
  {
   "cell_type": "code",
   "execution_count": 34,
   "metadata": {},
   "outputs": [],
   "source": [
    "class Point:\n",
    "    RRHsum=0\n",
    "    def __init__(self, x,  y):\n",
    "        self.x = x\n",
    "        self.y = y\n",
    "    \n",
    "  \n",
    " \"\"\"  \n",
    "class pos_Obj:\n",
    "    def __init__(self, RB,  Conn):\n",
    "        self.RB = RB\n",
    "        self.Conn = Conn\n",
    "\n",
    "  \n"
   ]
  },
  {
   "cell_type": "markdown",
   "metadata": {},
   "source": [
    "## Generating the RRH and users"
   ]
  },
  {
   "cell_type": "code",
   "execution_count": 3,
   "metadata": {},
   "outputs": [],
   "source": [
    "\n",
    "\n",
    "#n= total number of users\n",
    "# m = total number of RRH \n",
    "\n",
    "\n",
    "n=5\n",
    "m=15\n",
    "users = [Point(0,0) for i in range(n)]\n",
    "for user in users:\n",
    "    user.x= randrange(10)\n",
    "    user.y=randrange(10)\n",
    "\n",
    "rrhs= [Point(0,0) for i in range(m)]\n",
    "for rrh in rrhs:\n",
    "    rrh.x= randrange(10)\n",
    "    rrh.y=randrange(10)\n",
    "\n"
   ]
  },
  {
   "cell_type": "markdown",
   "metadata": {},
   "source": [
    "## Generating connection Matrix for local search"
   ]
  },
  {
   "cell_type": "code",
   "execution_count": 4,
   "metadata": {},
   "outputs": [
    {
     "data": {
      "text/plain": [
       "'\\nm=2\\nn=2\\n\\nx = [[list(i[x:x+m]) for x in range(0, len(i), m)] for i in product(\"01\", repeat=m*n)]\\nprint(x)\\n\\nm=2\\nn=2\\n\\nx = product([1, 0], repeat=n*m)\\nx = np.reshape(list(x), (-1, n, m)) '"
      ]
     },
     "execution_count": 4,
     "metadata": {},
     "output_type": "execute_result"
    }
   ],
   "source": [
    "from itertools import product\n",
    "\"\"\"\n",
    "m=2\n",
    "n=2\n",
    "\n",
    "x = [[list(i[x:x+m]) for x in range(0, len(i), m)] for i in product(\"01\", repeat=m*n)]\n",
    "print(x)\n",
    "\n",
    "m=2\n",
    "n=2\n",
    "\n",
    "x = product([1, 0], repeat=n*m)\n",
    "x = np.reshape(list(x), (-1, n, m)) \"\"\"\n"
   ]
  },
  {
   "cell_type": "code",
   "execution_count": null,
   "metadata": {},
   "outputs": [],
   "source": []
  },
  {
   "cell_type": "code",
   "execution_count": 5,
   "metadata": {},
   "outputs": [
    {
     "data": {
      "text/plain": [
       "2"
      ]
     },
     "execution_count": 5,
     "metadata": {},
     "output_type": "execute_result"
    }
   ],
   "source": [
    "\n",
    "\n",
    "round(2.2)"
   ]
  },
  {
   "cell_type": "markdown",
   "metadata": {},
   "source": [
    "## Generating random sol for Genetics Algorithm"
   ]
  },
  {
   "cell_type": "code",
   "execution_count": 28,
   "metadata": {},
   "outputs": [],
   "source": [
    "def randconn(N,M,users,rrhs, Q):\n",
    "    flag=True\n",
    "    \"\"\"initializing the two matrices of connections and RRH sum\"\"\"\n",
    "    \n",
    "    x = np.zeros((N,M))\n",
    "    RRHsum = np.zeros((N,M))\n",
    "    \n",
    "    for k in range(N):\n",
    "        \"\"\"random index to put the 1 in the users row\"\"\"\n",
    "        \n",
    "        index = np.random.randint(0,M-1)\n",
    "        distance = math.sqrt((users[k].x - rrhs[index].x)**2 + (users[k].y - rrhs[index].y)**2)\n",
    "        S = 5 - (10*math.log(25)) - (20*math.log(2350)) - (30*math.log(distance)) - (6*(distance/5)) + 28\n",
    "        C = 180000*math.log((1+pow(10,(S/(-174+ (10*math.log(180000)))/10))),2)\n",
    "        Rb = 2000000 / C\n",
    "       \n",
    "        \"\"\" updating matrix values\"\"\"\n",
    "        \n",
    "        RRHsum[k][index]= RRHsum[k][index]+math.ceil(Rb)\n",
    "        x[k][index] = 1\n",
    "        \n",
    "        \"\"\" Checking whether the column sum value in RRh sum matrix is greater than Q RB.. if true the function returns flag=False\n",
    "            and this function won't be used. and the method is called again to generate another valid matrix\n",
    "        \"\"\"\n",
    "        if RRHsum.sum(axis=0)[index] >Q:\n",
    "            \n",
    "            flag=False\n",
    "            break\n",
    "        \n",
    "        \n",
    "        #x = np.zeros((N,M))\n",
    "        \n",
    "       \n",
    "    \n",
    "    return x,RRHsum, flag"
   ]
  },
  {
   "cell_type": "code",
   "execution_count": 35,
   "metadata": {},
   "outputs": [
    {
     "name": "stdout",
     "output_type": "stream",
     "text": [
      "True\n",
      "[[0. 0. 0. 0. 0. 0. 1. 0. 0. 0. 0. 0. 0. 0. 0.]\n",
      " [0. 0. 0. 0. 0. 0. 0. 0. 0. 0. 1. 0. 0. 0. 0.]\n",
      " [0. 0. 0. 0. 0. 0. 0. 0. 0. 0. 1. 0. 0. 0. 0.]\n",
      " [0. 0. 0. 0. 0. 0. 0. 0. 0. 0. 0. 1. 0. 0. 0.]\n",
      " [0. 1. 0. 0. 0. 0. 0. 0. 0. 0. 0. 0. 0. 0. 0.]]\n",
      "[[0. 7. 0. 0. 0. 0. 0. 0. 0. 0. 0. 0. 0. 0. 0.]\n",
      " [0. 0. 0. 0. 0. 0. 0. 0. 0. 0. 0. 0. 7. 0. 0.]\n",
      " [0. 0. 0. 0. 7. 0. 0. 0. 0. 0. 0. 0. 0. 0. 0.]\n",
      " [0. 0. 0. 0. 0. 0. 0. 7. 0. 0. 0. 0. 0. 0. 0.]\n",
      " [0. 0. 0. 0. 0. 0. 0. 0. 0. 7. 0. 0. 0. 0. 0.]]\n"
     ]
    }
   ],
   "source": [
    "n, m = 5, 15\n",
    "Q= 7\n",
    "\"\"\"loop to generate the valid matrix for genetics algorithm\"\"\"\n",
    "\n",
    "loop= False\n",
    "while loop==False:\n",
    "    conn,rrhSum,flag = randconn(n,m,users,rrhs, Q)\n",
    "    loop=flag\n",
    "    \n",
    "\n",
    "print(flag)\n",
    "print(x)\n",
    "print(rrhSum)\n",
    "\n",
    "\n"
   ]
  },
  {
   "cell_type": "markdown",
   "metadata": {},
   "source": [
    "\n",
    "## Genetics Algorithm using generated matrix"
   ]
  },
  {
   "cell_type": "code",
   "execution_count": null,
   "metadata": {},
   "outputs": [],
   "source": []
  },
  {
   "cell_type": "code",
   "execution_count": null,
   "metadata": {},
   "outputs": [],
   "source": []
  },
  {
   "cell_type": "markdown",
   "metadata": {},
   "source": [
    "## Some test codes"
   ]
  },
  {
   "cell_type": "code",
   "execution_count": null,
   "metadata": {},
   "outputs": [],
   "source": [
    "class Trial:\n",
    "   \n",
    "    def __init__(self, x ,  S=0):\n",
    "        self.x =x\n",
    "        self.S= S\n",
    "    def add(self , sum_A):\n",
    "        self.S = self.S +sum_A\n",
    "        print(self.S )\n",
    "x= Trial(2)\n",
    "x.add(10)\n",
    "x.add(100)\n",
    "\n",
    "y=Trial(3)\n",
    "x.add(5)\n",
    "print(x.S)"
   ]
  },
  {
   "cell_type": "code",
   "execution_count": null,
   "metadata": {},
   "outputs": [],
   "source": []
  },
  {
   "cell_type": "code",
   "execution_count": null,
   "metadata": {},
   "outputs": [],
   "source": []
  }
 ],
 "metadata": {
  "kernelspec": {
   "display_name": "Python 3",
   "language": "python",
   "name": "python3"
  },
  "language_info": {
   "codemirror_mode": {
    "name": "ipython",
    "version": 3
   },
   "file_extension": ".py",
   "mimetype": "text/x-python",
   "name": "python",
   "nbconvert_exporter": "python",
   "pygments_lexer": "ipython3",
   "version": "3.7.1"
  }
 },
 "nbformat": 4,
 "nbformat_minor": 2
}
